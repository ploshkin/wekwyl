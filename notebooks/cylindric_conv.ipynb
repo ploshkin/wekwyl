version https://git-lfs.github.com/spec/v1
oid sha256:537397d34b06bb085c200183ad15c17dffff3682a760faaf5a2811c39a12a0aa
size 30347
